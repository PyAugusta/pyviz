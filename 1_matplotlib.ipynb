{
 "cells": [
  {
   "cell_type": "markdown",
   "metadata": {},
   "source": [
    "# Intro to matplotlib #\n",
    "\n",
    "Matplotlib is the original Python visualization tool. A 2D plotting library, matplotlib can be used to generate plots, histograms, scatterplots, and much more.\n",
    "\n",
    "It is also the backbone of many modern day data science tools' visualization components. \n",
    "\n",
    "In this introduction, we'll briefly take a look at how simple it can be to create plots using matplotlib using pyplot, then we'll look at some more complex examples."
   ]
  },
  {
   "cell_type": "code",
   "execution_count": null,
   "metadata": {
    "collapsed": true
   },
   "outputs": [],
   "source": [
    "import matplotlib.pyplot as plt\n",
    "import numpy as np"
   ]
  },
  {
   "cell_type": "code",
   "execution_count": null,
   "metadata": {},
   "outputs": [],
   "source": [
    "# We start with a single-dimension array \n",
    "# more info on numpy arrays available @ \n",
    "# https://docs.scipy.org/doc/numpy/reference/generated/numpy.array.html\n",
    "arr = np.array([1, 2, 3, 4])\n",
    "np.info(arr)"
   ]
  },
  {
   "cell_type": "code",
   "execution_count": null,
   "metadata": {},
   "outputs": [],
   "source": [
    "# plotting our array is easy\n",
    "plt.plot(arr)\n",
    "plt.show()"
   ]
  },
  {
   "cell_type": "code",
   "execution_count": null,
   "metadata": {},
   "outputs": [],
   "source": [
    "# the plot method can take an arbitrary number of arrays and intelligently arrange them. \n",
    "xarr = np.array([3, 4, 5, 6])\n",
    "yarr = np.array([11, 32, 56, 77])\n",
    "plt.plot(xarr, yarr)\n",
    "plt.show()"
   ]
  },
  {
   "cell_type": "code",
   "execution_count": null,
   "metadata": {},
   "outputs": [],
   "source": [
    "# you can also pass a format string (based on MATLAB) after each pair of data sets \n",
    "# to change the style\n",
    "plt.plot(xarr, yarr, 'ro') # r -> red, o -> circles\n",
    "plt.show()"
   ]
  },
  {
   "cell_type": "code",
   "execution_count": null,
   "metadata": {},
   "outputs": [],
   "source": [
    "# a more complex example\n",
    "time = np.arange(0., 5., 0.2)\n",
    "time_2 = time**2\n",
    "time_3 = time**3\n",
    "\n",
    "plt.plot(time, time, 'r--', time, time_2, 'bs', time, time_3, 'g^')\n",
    "# 'r--' -> red dashes\n",
    "# 'bs' -> blue squares\n",
    "# 'g^' -> green triangles\n",
    "plt.show()"
   ]
  },
  {
   "cell_type": "markdown",
   "metadata": {},
   "source": [
    "## Cool examples from the matplotlib gallery #\n",
    "\n",
    "Matplotlib is an extensive library, that we don't have time to cover completely. If you'd like more in-depth demonstrations, check out https://matplotlib.org.\n",
    "\n",
    "Before we move on though, here are some of my favorite examples from the gallery"
   ]
  },
  {
   "cell_type": "code",
   "execution_count": null,
   "metadata": {},
   "outputs": [],
   "source": [
    "import matplotlib.pyplot as plt\n",
    "from numpy.random import rand\n",
    "\n",
    "fig, ax = plt.subplots()\n",
    "for color in ['red', 'green', 'blue']:\n",
    "    n = 750\n",
    "    x, y = rand(2, n)\n",
    "    scale = 200.0 * rand(n)\n",
    "    ax.scatter(x, y, c=color, s=scale, label=color, alpha=0.3, edgecolors='none')\n",
    "    \n",
    "ax.legend()\n",
    "ax.grid(True)\n",
    "plt.show()"
   ]
  },
  {
   "cell_type": "code",
   "execution_count": null,
   "metadata": {},
   "outputs": [],
   "source": [
    "import matplotlib.pyplot as plt\n",
    "import numpy as np\n",
    "from numpy.random import rand\n",
    "\n",
    "n = 50\n",
    "x = rand(n)\n",
    "y = rand(n)\n",
    "colors = rand(n)\n",
    "area = np.pi * (15 * rand(n))**2\n",
    "\n",
    "plt.scatter(x, y, s=area, c=colors, alpha=0.5)\n",
    "plt.show()"
   ]
  },
  {
   "cell_type": "code",
   "execution_count": null,
   "metadata": {},
   "outputs": [],
   "source": [
    "import numpy as np\n",
    "import matplotlib.pyplot as plt\n",
    "\n",
    "\n",
    "# Compute pie slices\n",
    "N = 20\n",
    "theta = np.linspace(0.0, 2 * np.pi, N, endpoint=False)\n",
    "radii = 10 * np.random.rand(N)\n",
    "width = np.pi / 4 * np.random.rand(N)\n",
    "\n",
    "ax = plt.subplot(111, projection='polar')\n",
    "bars = ax.bar(theta, radii, width=width, bottom=0.0)\n",
    "\n",
    "# Use custom colors and opacity\n",
    "for r, bar in zip(radii, bars):\n",
    "    bar.set_facecolor(plt.cm.viridis(r / 10.))\n",
    "    bar.set_alpha(0.5)\n",
    "\n",
    "plt.show()"
   ]
  },
  {
   "cell_type": "code",
   "execution_count": null,
   "metadata": {},
   "outputs": [],
   "source": [
    "import numpy as np\n",
    "import matplotlib.mlab as mlab\n",
    "import matplotlib.pyplot as plt\n",
    "\n",
    "np.random.seed(0)\n",
    "\n",
    "# example data\n",
    "mu = 100  # mean of distribution\n",
    "sigma = 15  # standard deviation of distribution\n",
    "x = mu + sigma * np.random.randn(437)\n",
    "\n",
    "num_bins = 50\n",
    "\n",
    "fig, ax = plt.subplots()\n",
    "\n",
    "# the histogram of the data\n",
    "n, bins, patches = ax.hist(x, num_bins, normed=1)\n",
    "\n",
    "# add a 'best fit' line\n",
    "y = mlab.normpdf(bins, mu, sigma)\n",
    "ax.plot(bins, y, '--')\n",
    "ax.set_xlabel('Smarts')\n",
    "ax.set_ylabel('Probability density')\n",
    "ax.set_title(r'Histogram of IQ: $\\mu=100$, $\\sigma=15$')\n",
    "\n",
    "# Tweak spacing to prevent clipping of ylabel\n",
    "fig.tight_layout()\n",
    "plt.show()"
   ]
  },
  {
   "cell_type": "code",
   "execution_count": null,
   "metadata": {
    "collapsed": true
   },
   "outputs": [],
   "source": []
  }
 ],
 "metadata": {
  "kernelspec": {
   "display_name": "Python 3",
   "language": "python",
   "name": "python3"
  },
  "language_info": {
   "codemirror_mode": {
    "name": "ipython",
    "version": 3
   },
   "file_extension": ".py",
   "mimetype": "text/x-python",
   "name": "python",
   "nbconvert_exporter": "python",
   "pygments_lexer": "ipython3",
   "version": "3.6.2"
  }
 },
 "nbformat": 4,
 "nbformat_minor": 2
}
