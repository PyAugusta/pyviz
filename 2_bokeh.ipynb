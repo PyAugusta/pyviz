{
 "cells": [
  {
   "cell_type": "markdown",
   "metadata": {},
   "source": [
    "# Intro to bokeh #\n",
    "\n",
    "Bokeh takes matplotlib style plots and introduces some great new features like interactivity in browsers, server-backed applications, versatile graphics, and streaming data."
   ]
  },
  {
   "cell_type": "code",
   "execution_count": null,
   "metadata": {},
   "outputs": [],
   "source": [
    "from bokeh.io import output_notebook, show\n",
    "from bokeh.charts import Histogram\n",
    "from bokeh.sampledata.iris import flowers as data\n",
    "output_notebook()"
   ]
  },
  {
   "cell_type": "code",
   "execution_count": null,
   "metadata": {},
   "outputs": [],
   "source": [
    "hist = Histogram(data, values='petal_length', color='species', legend='top_right', bins=12)\n",
    "show(hist)"
   ]
  },
  {
   "cell_type": "code",
   "execution_count": null,
   "metadata": {},
   "outputs": [],
   "source": [
    "from bokeh.plotting import figure\n",
    "import numpy as np\n",
    "\n",
    "xarr = np.array([1, 2, 3, 4, 5])\n",
    "yarr = np.array([6, 7, 2, 4, 5])\n",
    "\n",
    "#create a new plot using figure\n",
    "p = figure(plot_width=400, plot_height=400)\n",
    "\n",
    "# add a cirle renderer\n",
    "p.circle(xarr, yarr, size=15, line_color='navy', fill_color='orange', fill_alpha=0.5)\n",
    "\n",
    "show(p)"
   ]
  },
  {
   "cell_type": "code",
   "execution_count": null,
   "metadata": {},
   "outputs": [],
   "source": [
    "p = figure(plot_width=400, plot_height=400, title='Line Plot')\n",
    "p.line(xarr, yarr, line_width=3)\n",
    "show(p)"
   ]
  },
  {
   "cell_type": "code",
   "execution_count": null,
   "metadata": {},
   "outputs": [],
   "source": [
    "n = 20\n",
    "img = np.empty((n, n), dtype=np.uint32)\n",
    "view = img.view(dtype=np.uint8).reshape((n, n, 4))\n",
    "for i in range(n):\n",
    "    for j in range(n):\n",
    "        view[i, j, 0] = int(i/n*255)\n",
    "        view[i, j, 1] = 158\n",
    "        view[i, j, 2] = int(j/n*255)\n",
    "        view[i, j, 3] = 255\n",
    "        \n",
    "p = figure(x_range=[0, 10], y_range=[0, 10])\n",
    "p.image_rgba(image=[img], x=[0], y=[0], dw=[10], dh=[10])\n",
    "\n",
    "show(p)"
   ]
  },
  {
   "cell_type": "code",
   "execution_count": null,
   "metadata": {
    "collapsed": true
   },
   "outputs": [],
   "source": []
  }
 ],
 "metadata": {
  "kernelspec": {
   "display_name": "Python 3",
   "language": "python",
   "name": "python3"
  },
  "language_info": {
   "codemirror_mode": {
    "name": "ipython",
    "version": 3
   },
   "file_extension": ".py",
   "mimetype": "text/x-python",
   "name": "python",
   "nbconvert_exporter": "python",
   "pygments_lexer": "ipython3",
   "version": "3.6.2"
  }
 },
 "nbformat": 4,
 "nbformat_minor": 2
}
